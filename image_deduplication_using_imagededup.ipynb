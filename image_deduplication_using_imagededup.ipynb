{
 "cells": [
  {
   "cell_type": "markdown",
   "metadata": {},
   "source": [
    "### Image Duplicate Detection with `imagededup` "
   ]
  },
  {
   "cell_type": "code",
   "execution_count": 1,
   "metadata": {},
   "outputs": [
    {
     "name": "stdout",
     "output_type": "stream",
     "text": [
      "Requirement already satisfied: imagededup in /opt/conda/lib/python3.6/site-packages (0.1.0)\r\n",
      "Requirement already satisfied: tqdm==4.35.0 in /opt/conda/lib/python3.6/site-packages (from imagededup) (4.35.0)\r\n",
      "Requirement already satisfied: PyWavelets==1.0.3 in /opt/conda/lib/python3.6/site-packages (from imagededup) (1.0.3)\r\n",
      "Requirement already satisfied: numpy==1.16.3 in /opt/conda/lib/python3.6/site-packages (from imagededup) (1.16.3)\r\n",
      "Requirement already satisfied: scipy==1.2.1 in /opt/conda/lib/python3.6/site-packages (from imagededup) (1.2.1)\r\n",
      "Requirement already satisfied: matplotlib==3.1.1 in /opt/conda/lib/python3.6/site-packages (from imagededup) (3.1.1)\r\n",
      "Requirement already satisfied: Pillow==6.0.0 in /opt/conda/lib/python3.6/site-packages (from imagededup) (6.0.0)\r\n",
      "Requirement already satisfied: tensorflow==2.0.0 in /opt/conda/lib/python3.6/site-packages (from imagededup) (2.0.0)\r\n",
      "Requirement already satisfied: scikit-learn==0.21.2 in /opt/conda/lib/python3.6/site-packages (from imagededup) (0.21.2)\r\n",
      "Requirement already satisfied: cycler>=0.10 in /opt/conda/lib/python3.6/site-packages (from matplotlib==3.1.1->imagededup) (0.10.0)\r\n",
      "Requirement already satisfied: python-dateutil>=2.1 in /opt/conda/lib/python3.6/site-packages (from matplotlib==3.1.1->imagededup) (2.8.0)\r\n",
      "Requirement already satisfied: kiwisolver>=1.0.1 in /opt/conda/lib/python3.6/site-packages (from matplotlib==3.1.1->imagededup) (1.1.0)\r\n",
      "Requirement already satisfied: pyparsing!=2.0.4,!=2.1.2,!=2.1.6,>=2.0.1 in /opt/conda/lib/python3.6/site-packages (from matplotlib==3.1.1->imagededup) (2.4.2)\r\n",
      "Requirement already satisfied: opt-einsum>=2.3.2 in /opt/conda/lib/python3.6/site-packages (from tensorflow==2.0.0->imagededup) (3.1.0)\r\n",
      "Requirement already satisfied: wrapt>=1.11.1 in /opt/conda/lib/python3.6/site-packages (from tensorflow==2.0.0->imagededup) (1.11.2)\r\n",
      "Requirement already satisfied: protobuf>=3.6.1 in /opt/conda/lib/python3.6/site-packages (from tensorflow==2.0.0->imagededup) (3.7.1)\r\n",
      "Requirement already satisfied: tensorboard<2.1.0,>=2.0.0 in /opt/conda/lib/python3.6/site-packages (from tensorflow==2.0.0->imagededup) (2.0.0)\r\n",
      "Requirement already satisfied: termcolor>=1.1.0 in /opt/conda/lib/python3.6/site-packages (from tensorflow==2.0.0->imagededup) (1.1.0)\r\n",
      "Requirement already satisfied: gast==0.2.2 in /opt/conda/lib/python3.6/site-packages (from tensorflow==2.0.0->imagededup) (0.2.2)\r\n",
      "Requirement already satisfied: google-pasta>=0.1.6 in /opt/conda/lib/python3.6/site-packages (from tensorflow==2.0.0->imagededup) (0.1.7)\r\n",
      "Requirement already satisfied: tensorflow-estimator<2.1.0,>=2.0.0 in /opt/conda/lib/python3.6/site-packages (from tensorflow==2.0.0->imagededup) (2.0.0)\r\n",
      "Requirement already satisfied: keras-applications>=1.0.8 in /opt/conda/lib/python3.6/site-packages (from tensorflow==2.0.0->imagededup) (1.0.8)\r\n",
      "Requirement already satisfied: absl-py>=0.7.0 in /opt/conda/lib/python3.6/site-packages (from tensorflow==2.0.0->imagededup) (0.8.0)\r\n",
      "Requirement already satisfied: wheel>=0.26 in /opt/conda/lib/python3.6/site-packages (from tensorflow==2.0.0->imagededup) (0.33.6)\r\n",
      "Requirement already satisfied: keras-preprocessing>=1.0.5 in /opt/conda/lib/python3.6/site-packages (from tensorflow==2.0.0->imagededup) (1.1.0)\r\n",
      "Requirement already satisfied: six>=1.10.0 in /opt/conda/lib/python3.6/site-packages (from tensorflow==2.0.0->imagededup) (1.12.0)\r\n",
      "Requirement already satisfied: astor>=0.6.0 in /opt/conda/lib/python3.6/site-packages (from tensorflow==2.0.0->imagededup) (0.8.0)\r\n",
      "Requirement already satisfied: grpcio>=1.8.6 in /opt/conda/lib/python3.6/site-packages (from tensorflow==2.0.0->imagededup) (1.24.0)\r\n",
      "Requirement already satisfied: joblib>=0.11 in /opt/conda/lib/python3.6/site-packages (from scikit-learn==0.21.2->imagededup) (0.13.2)\r\n",
      "Requirement already satisfied: setuptools in /opt/conda/lib/python3.6/site-packages (from kiwisolver>=1.0.1->matplotlib==3.1.1->imagededup) (41.2.0)\r\n",
      "Requirement already satisfied: werkzeug>=0.11.15 in /opt/conda/lib/python3.6/site-packages (from tensorboard<2.1.0,>=2.0.0->tensorflow==2.0.0->imagededup) (0.16.0)\r\n",
      "Requirement already satisfied: markdown>=2.6.8 in /opt/conda/lib/python3.6/site-packages (from tensorboard<2.1.0,>=2.0.0->tensorflow==2.0.0->imagededup) (3.1.1)\r\n",
      "Requirement already satisfied: h5py in /opt/conda/lib/python3.6/site-packages (from keras-applications>=1.0.8->tensorflow==2.0.0->imagededup) (2.9.0)\r\n"
     ]
    }
   ],
   "source": [
    "!pip install imagededup"
   ]
  },
  {
   "cell_type": "code",
   "execution_count": 2,
   "metadata": {
    "_cell_guid": "b1076dfc-b9ad-4769-8c92-a6c4dae69d19",
    "_uuid": "8f2839f25d086af736a60e9eeb907d3b93b6e0e5"
   },
   "outputs": [],
   "source": [
    "# please note this package - imagededup was custom-installed in this kernel \n",
    "from imagededup.methods import CNN\n",
    "from imagededup.utils import plot_duplicates\n",
    "import pandas as pd\n",
    "import matplotlib.pyplot as plt\n",
    "plt.rcParams['figure.figsize'] = (15, 10)"
   ]
  },
  {
   "cell_type": "markdown",
   "metadata": {},
   "source": [
    "### Initialize the algorithm that you'd like to use like PHash(), CNN()"
   ]
  },
  {
   "cell_type": "markdown",
   "metadata": {},
   "source": [
    "### PHash \n",
    "\n",
    "- Perceptual Hashing - https://en.wikipedia.org/wiki/Perceptual_hashing\n",
    "\n",
    "### WHash\n",
    "\n",
    "- Wavelet Hashing - https://fullstackml.com/wavelet-image-hash-in-python-3504fdd282b5\n",
    "\n",
    "### CNN\n",
    "\n",
    "- Convoluted Neural Network - MobileNet pretrained on imagenet dataset. \n"
   ]
  },
  {
   "cell_type": "code",
   "execution_count": 3,
   "metadata": {},
   "outputs": [
    {
     "name": "stdout",
     "output_type": "stream",
     "text": [
      "Downloading data from https://github.com/fchollet/deep-learning-models/releases/download/v0.6/mobilenet_1_0_224_tf_no_top.h5\n",
      "17227776/17225924 [==============================] - 0s 0us/step\n"
     ]
    },
    {
     "name": "stderr",
     "output_type": "stream",
     "text": [
      "2021-04-24 20:29:34,550: INFO Initialized: MobileNet pretrained on ImageNet dataset sliced at last conv layer and added GlobalAveragePooling\n"
     ]
    }
   ],
   "source": [
    "cnn = CNN()"
   ]
  },
  {
   "cell_type": "markdown",
   "metadata": {},
   "source": [
    "### Define the image directory from where we have to find duplicates"
   ]
  },
  {
   "cell_type": "code",
   "execution_count": 4,
   "metadata": {},
   "outputs": [],
   "source": [
    "image_dir = \"../input/pokemon-images-and-types/images/images/\""
   ]
  },
  {
   "cell_type": "markdown",
   "metadata": {},
   "source": [
    "### Encoding the images using the initialized Algorithm"
   ]
  },
  {
   "cell_type": "markdown",
   "metadata": {},
   "source": [
    "The last Global Average Pooling layer to generate encodings. "
   ]
  },
  {
   "cell_type": "code",
   "execution_count": 5,
   "metadata": {},
   "outputs": [
    {
     "name": "stderr",
     "output_type": "stream",
     "text": [
      "2021-04-24 20:29:34,588: INFO Start: Image encoding generation\n"
     ]
    },
    {
     "name": "stdout",
     "output_type": "stream",
     "text": [
      "13/13 [==============================] - 35s 3s/step\n"
     ]
    },
    {
     "name": "stderr",
     "output_type": "stream",
     "text": [
      "2021-04-24 20:30:10,219: INFO End: Image encoding generation\n"
     ]
    }
   ],
   "source": [
    "encodings = cnn.encode_images(image_dir=image_dir)"
   ]
  },
  {
   "cell_type": "markdown",
   "metadata": {},
   "source": [
    "### Finding Duplicates"
   ]
  },
  {
   "cell_type": "markdown",
   "metadata": {},
   "source": [
    "### Duplicates"
   ]
  },
  {
   "cell_type": "code",
   "execution_count": 6,
   "metadata": {},
   "outputs": [
    {
     "name": "stderr",
     "output_type": "stream",
     "text": [
      "2021-04-24 20:30:10,235: INFO Start: Calculating cosine similarities...\n",
      "2021-04-24 20:30:10,279: INFO End: Calculating cosine similarities.\n"
     ]
    }
   ],
   "source": [
    "duplicates = cnn.find_duplicates(encoding_map=encodings, scores = True)"
   ]
  },
  {
   "cell_type": "code",
   "execution_count": 7,
   "metadata": {},
   "outputs": [
    {
     "data": {
      "text/plain": [
       "809"
      ]
     },
     "execution_count": 7,
     "metadata": {},
     "output_type": "execute_result"
    }
   ],
   "source": [
    "len(duplicates)"
   ]
  },
  {
   "cell_type": "code",
   "execution_count": 8,
   "metadata": {},
   "outputs": [
    {
     "name": "stdout",
     "output_type": "stream",
     "text": [
      "cascoon.png,\n",
      "manaphy.png,\n",
      "minun.png,\n",
      "phione.png,\n",
      "plusle.png,\n",
      "silcoon.png,\n"
     ]
    }
   ],
   "source": [
    "for key, value in duplicates.items():\n",
    "   if len(value) > 0:\n",
    "    print(key + \",\")\n",
    "    "
   ]
  },
  {
   "cell_type": "markdown",
   "metadata": {},
   "source": [
    "### Plotting the duplicates"
   ]
  },
  {
   "cell_type": "code",
   "execution_count": 9,
   "metadata": {},
   "outputs": [
    {
     "name": "stderr",
     "output_type": "stream",
     "text": [
      "/opt/conda/lib/python3.6/site-packages/imagededup/utils/plotter.py:66: UserWarning: tight_layout : falling back to Agg renderer\n",
      "  gs.tight_layout(fig)\n"
     ]
    },
    {
     "data": {
      "image/png": "[encoded data removed]",
      "text/plain": [
       "<Figure size 1080x720 with 2 Axes>"
      ]
     },
     "metadata": {
      "needs_background": "light"
     },
     "output_type": "display_data"
    }
   ],
   "source": [
    "plot_duplicates(image_dir=image_dir, \n",
    "                duplicate_map=duplicates, \n",
    "                filename='cascoon.png')"
   ]
  },
  {
   "cell_type": "code",
   "execution_count": 10,
   "metadata": {},
   "outputs": [
    {
     "data": {
      "image/png": "[encoded data removed]",
      "text/plain": [
       "<Figure size 1080x720 with 2 Axes>"
      ]
     },
     "metadata": {
      "needs_background": "light"
     },
     "output_type": "display_data"
    }
   ],
   "source": [
    "plot_duplicates(image_dir=image_dir, \n",
    "                duplicate_map=duplicates, \n",
    "                filename='manaphy.png')"
   ]
  },
  {
   "cell_type": "code",
   "execution_count": 11,
   "metadata": {},
   "outputs": [
    {
     "data": {
      "image/png": "[encoded data removed]",
      "text/plain": [
       "<Figure size 1080x720 with 2 Axes>"
      ]
     },
     "metadata": {
      "needs_background": "light"
     },
     "output_type": "display_data"
    }
   ],
   "source": [
    "plot_duplicates(image_dir=image_dir, \n",
    "                duplicate_map=duplicates, \n",
    "                filename='plusle.png')"
   ]
  },
  {
   "cell_type": "markdown",
   "metadata": {},
   "source": [
    "Thanks to [idealo](https://github.com/idealo) for opensourcing this library. `imagededup` is definitely worth trying out : \n",
    "\n",
    "\n",
    "**Github** - [`imagededup`](https://github.com/idealo/imagededup)"
   ]
  },
  {
   "cell_type": "markdown",
   "metadata": {},
   "source": [
    "Let me know your thoughts, feedback and upvote!"
   ]
  },
  {
   "cell_type": "code",
   "execution_count": null,
   "metadata": {},
   "outputs": [],
   "source": []
  }
 ],
 "metadata": {
  "kernelspec": {
   "display_name": "Python 3",
   "language": "python",
   "name": "python3"
  },
  "language_info": {
   "codemirror_mode": {
    "name": "ipython",
    "version": 3
   },
   "file_extension": ".py",
   "mimetype": "text/x-python",
   "name": "python",
   "nbconvert_exporter": "python",
   "pygments_lexer": "ipython3",
   "version": "3.6.6"
  }
 },
 "nbformat": 4,
 "nbformat_minor": 4
}
