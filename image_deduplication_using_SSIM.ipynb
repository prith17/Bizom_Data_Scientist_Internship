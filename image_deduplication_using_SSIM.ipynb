{
 "cells": [
  {
   "cell_type": "code",
   "execution_count": null,
   "id": "c664a209-b4ce-4351-8c29-0fcf40577392",
   "metadata": {},
   "outputs": [],
   "source": [
    "# For the Structural similarity Im using this and it's hopefully working ::\n",
    "\n",
    "import matplotlib.pyplot as plt, numpy as np\n",
    "import cv2\n",
    "import torch\n",
    "from skimage.metrics import structural_similarity as ssim\n",
    "\n",
    "# import cv2\n",
    "target_width=256\n",
    "target_height=256\n",
    "\n",
    "def load_images(filename):\n",
    "    # read image using OpenCV\n",
    "    img = cv2.imread(filename)\n",
    "    # convert color scheme from BGR to RGB\n",
    "    img = cv2.cvtColor(img, cv2.COLOR_BGR2RGB)\n",
    "    \n",
    "    # resize the image to the specified dimensions\n",
    "    img = cv2.resize(img, (256, 256))\n",
    "    \n",
    "    return img\n",
    "\n",
    "def tensorify(img):\n",
    "    # convert image to tensor format and normalize pixel values between 0 and 1\n",
    "    img_tensor = torch.from_numpy(img.transpose((2, 0, 1))) / 255\n",
    "    return img_tensor\n",
    "\n",
    "img1 = load_images(\"/home/prithvirajnaik/prithvi/images/i1.png\") # helper function to load images\n",
    "\n",
    "img2 = load_images(\"/home/prithvirajnaik/prithvi/images/i2.png\")\n",
    "\n",
    "_img1 = tensorify(img1) # helper function to convert cv2 image to tensors\n",
    "_img2 = tensorify(img2)\n",
    "# Convert PyTorch tensors to numpy arrays\n",
    "\n",
    "img1_np = _img1.numpy()\n",
    "img2_np = _img2.numpy()\n",
    "# Compute SSIM score with win_size=3\n",
    "\n",
    "ssim_score = ssim(img1_np, img2_np, multichannel=True, win_size=3, data_range=255)\n",
    "print(\"True vs False Image SSIM Score: \", np.round(ssim_score * 100, 2), \"%\")\n"
   ]
  }
 ],
 "metadata": {
  "kernelspec": {
   "display_name": "Python 3 (ipykernel)",
   "language": "python",
   "name": "python3"
  },
  "language_info": {
   "codemirror_mode": {
    "name": "ipython",
    "version": 3
   },
   "file_extension": ".py",
   "mimetype": "text/x-python",
   "name": "python",
   "nbconvert_exporter": "python",
   "pygments_lexer": "ipython3",
   "version": "3.10.13"
  }
 },
 "nbformat": 4,
 "nbformat_minor": 5
}
