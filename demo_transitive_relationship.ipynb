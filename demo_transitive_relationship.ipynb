{
 "cells": [
  {
   "cell_type": "code",
   "execution_count": 1,
   "id": "fe87055c-cd84-43f0-9baa-b910ab294d26",
   "metadata": {},
   "outputs": [
    {
     "data": {
      "text/html": [
       "<div>\n",
       "<style scoped>\n",
       "    .dataframe tbody tr th:only-of-type {\n",
       "        vertical-align: middle;\n",
       "    }\n",
       "\n",
       "    .dataframe tbody tr th {\n",
       "        vertical-align: top;\n",
       "    }\n",
       "\n",
       "    .dataframe thead th {\n",
       "        text-align: right;\n",
       "    }\n",
       "</style>\n",
       "<table border=\"1\" class=\"dataframe\">\n",
       "  <thead>\n",
       "    <tr style=\"text-align: right;\">\n",
       "      <th></th>\n",
       "      <th>src</th>\n",
       "      <th>ref</th>\n",
       "    </tr>\n",
       "  </thead>\n",
       "  <tbody>\n",
       "    <tr>\n",
       "      <th>0</th>\n",
       "      <td>1</td>\n",
       "      <td>2</td>\n",
       "    </tr>\n",
       "    <tr>\n",
       "      <th>1</th>\n",
       "      <td>2</td>\n",
       "      <td>3</td>\n",
       "    </tr>\n",
       "    <tr>\n",
       "      <th>2</th>\n",
       "      <td>1</td>\n",
       "      <td>4</td>\n",
       "    </tr>\n",
       "    <tr>\n",
       "      <th>3</th>\n",
       "      <td>5</td>\n",
       "      <td>6</td>\n",
       "    </tr>\n",
       "    <tr>\n",
       "      <th>4</th>\n",
       "      <td>6</td>\n",
       "      <td>7</td>\n",
       "    </tr>\n",
       "    <tr>\n",
       "      <th>5</th>\n",
       "      <td>8</td>\n",
       "      <td>2</td>\n",
       "    </tr>\n",
       "    <tr>\n",
       "      <th>6</th>\n",
       "      <td>2</td>\n",
       "      <td>1</td>\n",
       "    </tr>\n",
       "    <tr>\n",
       "      <th>7</th>\n",
       "      <td>9</td>\n",
       "      <td>2</td>\n",
       "    </tr>\n",
       "  </tbody>\n",
       "</table>\n",
       "</div>"
      ],
      "text/plain": [
       "   src  ref\n",
       "0    1    2\n",
       "1    2    3\n",
       "2    1    4\n",
       "3    5    6\n",
       "4    6    7\n",
       "5    8    2\n",
       "6    2    1\n",
       "7    9    2"
      ]
     },
     "execution_count": 1,
     "metadata": {},
     "output_type": "execute_result"
    }
   ],
   "source": [
    "import pandas as pd\n",
    "\n",
    "tr_df=pd.read_csv(\"/home/prithvirajnaik/prithvi/files/test.csv\")\n",
    "tr_df"
   ]
  },
  {
   "cell_type": "code",
   "execution_count": 2,
   "id": "fd5865a3-9d55-4c25-87d4-a83ed7adc578",
   "metadata": {},
   "outputs": [
    {
     "name": "stdout",
     "output_type": "stream",
     "text": [
      "[1 2 1 5 6 8 2 9] [2 3 4 6 7 2 1 2]\n"
     ]
    }
   ],
   "source": [
    "# # Convert DataFrame columns to arrays\n",
    "# src = tr_df['src'].values\n",
    "# ref = tr_df['ref'].values\n",
    "\n",
    "# Alternatively, you can use the to_numpy() method\n",
    "src_array = tr_df['src'].to_numpy()\n",
    "ref_array = tr_df['ref'].to_numpy()\n",
    "print(src_array,ref_array)"
   ]
  },
  {
   "cell_type": "code",
   "execution_count": 34,
   "id": "3e311462-e064-46ad-b908-598bdc031721",
   "metadata": {},
   "outputs": [],
   "source": [
    "def create_symmetric_relations(x,y,dict):\n",
    "    # for i in range(len(src_array)):\n",
    "        if x not in dict:\n",
    "            dict[x] = []\n",
    "        if y not in dict:\n",
    "            dict[y] = []\n",
    "        if y not in dict[x]:\n",
    "            dict[x].append(y)\n",
    "        if x not in dict[y]:\n",
    "            dict[y].append(x)    \n",
    "        return dict"
   ]
  },
  {
   "cell_type": "code",
   "execution_count": 35,
   "id": "d3e827a7-8c15-47bb-b0c6-12c2855b7c9a",
   "metadata": {},
   "outputs": [],
   "source": [
    "dict={}\n",
    "for i in range(len(src_array)): \n",
    "    x=src_array[i] \n",
    "    y=ref_array[i]\n",
    "    dict=create_symmetric_relations(x,y,dict)"
   ]
  },
  {
   "cell_type": "code",
   "execution_count": 31,
   "id": "856ed75f-966d-4eaf-a803-112d2f987429",
   "metadata": {},
   "outputs": [
    {
     "data": {
      "text/plain": [
       "{1: [], 2: [], 3: [], 4: [], 5: [], 6: [], 7: [], 8: [], 9: []}"
      ]
     },
     "execution_count": 31,
     "metadata": {},
     "output_type": "execute_result"
    }
   ],
   "source": [
    "dict"
   ]
  },
  {
   "cell_type": "code",
   "execution_count": 36,
   "id": "49669b56-7a3d-493b-a764-15eaa5c85035",
   "metadata": {},
   "outputs": [],
   "source": [
    "for i,k_array in dict.items():\n",
    "    for k in k_array:\n",
    "        if k in dict:\n",
    "            j_array=dict[k]\n",
    "            for j in j_array:\n",
    "                create_symmetric_relations(i,j,dict)"
   ]
  },
  {
   "cell_type": "code",
   "execution_count": 37,
   "id": "297e2aaf-4849-4626-aa07-11f406312ba4",
   "metadata": {},
   "outputs": [
    {
     "data": {
      "text/plain": [
       "{1: [2, 4, 1, 3, 8, 9],\n",
       " 2: [1, 3, 8, 9, 2, 4],\n",
       " 3: [2, 1, 3, 8, 9, 4],\n",
       " 4: [1, 2, 3, 4, 8, 9],\n",
       " 5: [6, 5, 7],\n",
       " 6: [5, 7, 6],\n",
       " 7: [6, 5, 7],\n",
       " 8: [2, 1, 3, 4, 8, 9],\n",
       " 9: [2, 1, 3, 4, 8, 9]}"
      ]
     },
     "execution_count": 37,
     "metadata": {},
     "output_type": "execute_result"
    }
   ],
   "source": [
    "dict"
   ]
  },
  {
   "cell_type": "code",
   "execution_count": 39,
   "id": "29148c80-8762-4d04-a13c-277662cef8ab",
   "metadata": {},
   "outputs": [],
   "source": [
    "for x,y in dict.items():\n",
    "    for z in y:\n",
    "        if z==x:\n",
    "            y.remove(z)"
   ]
  },
  {
   "cell_type": "code",
   "execution_count": 40,
   "id": "76ebbaf2-7c95-4c50-bdb3-84fe9e5f1b73",
   "metadata": {},
   "outputs": [
    {
     "data": {
      "text/plain": [
       "{1: [2, 4, 3, 8, 9],\n",
       " 2: [1, 3, 8, 9, 4],\n",
       " 3: [2, 1, 8, 9, 4],\n",
       " 4: [1, 2, 3, 8, 9],\n",
       " 5: [6, 7],\n",
       " 6: [5, 7],\n",
       " 7: [6, 5],\n",
       " 8: [2, 1, 3, 4, 9],\n",
       " 9: [2, 1, 3, 4, 8]}"
      ]
     },
     "execution_count": 40,
     "metadata": {},
     "output_type": "execute_result"
    }
   ],
   "source": [
    "dict"
   ]
  }
 ],
 "metadata": {
  "kernelspec": {
   "display_name": "Python 3 (ipykernel)",
   "language": "python",
   "name": "python3"
  },
  "language_info": {
   "codemirror_mode": {
    "name": "ipython",
    "version": 3
   },
   "file_extension": ".py",
   "mimetype": "text/x-python",
   "name": "python",
   "nbconvert_exporter": "python",
   "pygments_lexer": "ipython3",
   "version": "3.10.13"
  }
 },
 "nbformat": 4,
 "nbformat_minor": 5
}
